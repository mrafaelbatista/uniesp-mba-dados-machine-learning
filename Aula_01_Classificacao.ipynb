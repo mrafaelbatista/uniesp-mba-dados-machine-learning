{
 "cells": [
  {
   "cell_type": "markdown",
   "source": [
    "# Assunto: Classificação\n",
    "UNIESP - MBA em Engenharia e Ciência de Dados\n",
    "Disciplina: Machine Learning"
   ],
   "metadata": {
    "collapsed": false
   },
   "id": "c37b7addc0392431"
  },
  {
   "cell_type": "markdown",
   "source": [
    "## Preparação dos Dados"
   ],
   "metadata": {
    "collapsed": false
   },
   "id": "f0abac98968dc6d7"
  },
  {
   "cell_type": "markdown",
   "source": [
    "### Instalação/Importação de bibliotecas"
   ],
   "metadata": {
    "collapsed": false
   },
   "id": "27de21bee517be64"
  },
  {
   "cell_type": "code",
   "execution_count": 4,
   "outputs": [
    {
     "name": "stdout",
     "output_type": "stream",
     "text": [
      "Requirement already satisfied: sklearn in c:\\users\\mrafa\\devsourcecode\\uniesp-mba-dados-machine-learning\\venv\\lib\\site-packages (0.0.post10)\n"
     ]
    }
   ],
   "source": [
    "# Instalação\n",
    "!pip install sklearn"
   ],
   "metadata": {
    "collapsed": false,
    "ExecuteTime": {
     "end_time": "2023-11-03T14:32:02.261397Z",
     "start_time": "2023-11-03T14:32:00.749288200Z"
    }
   },
   "id": "67df73bd4c13a90c"
  },
  {
   "cell_type": "code",
   "execution_count": 5,
   "outputs": [],
   "source": [
    "# Importação"
   ],
   "metadata": {
    "collapsed": false,
    "ExecuteTime": {
     "end_time": "2023-11-03T14:32:02.266592200Z",
     "start_time": "2023-11-03T14:32:02.263578100Z"
    }
   },
   "id": "7496c8a8b14d043b"
  },
  {
   "cell_type": "markdown",
   "source": [
    "## Importação da Base de Dados"
   ],
   "metadata": {
    "collapsed": false
   },
   "id": "69c4f81e0f06617e"
  },
  {
   "cell_type": "code",
   "execution_count": null,
   "outputs": [],
   "source": [],
   "metadata": {
    "collapsed": false
   },
   "id": "c0325958f7cba6d5"
  }
 ],
 "metadata": {
  "kernelspec": {
   "display_name": "Python 3",
   "language": "python",
   "name": "python3"
  },
  "language_info": {
   "codemirror_mode": {
    "name": "ipython",
    "version": 2
   },
   "file_extension": ".py",
   "mimetype": "text/x-python",
   "name": "python",
   "nbconvert_exporter": "python",
   "pygments_lexer": "ipython2",
   "version": "2.7.6"
  }
 },
 "nbformat": 4,
 "nbformat_minor": 5
}
