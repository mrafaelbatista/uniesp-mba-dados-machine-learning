{
 "cells": [
  {
   "cell_type": "markdown",
   "source": [
    "# Assunto: Classificação\n",
    "UNIESP - MBA em Engenharia e Ciência de Dados\n",
    "Disciplina: Machine Learning"
   ],
   "metadata": {
    "collapsed": false
   },
   "id": "c37b7addc0392431"
  },
  {
   "cell_type": "markdown",
   "source": [
    "## Preparação dos Dados"
   ],
   "metadata": {
    "collapsed": false
   },
   "id": "f0abac98968dc6d7"
  },
  {
   "cell_type": "markdown",
   "source": [
    "### Instalação/Importação de bibliotecas"
   ],
   "metadata": {
    "collapsed": false
   },
   "id": "27de21bee517be64"
  },
  {
   "cell_type": "code",
   "execution_count": 4,
   "outputs": [],
   "source": [
    "# Instalação\n",
    "!pip install sklearn"
   ],
   "metadata": {
    "collapsed": false
   },
   "id": "67df73bd4c13a90c"
  },
  {
   "cell_type": "code",
   "execution_count": 5,
   "outputs": [],
   "source": [
    "# Importação"
   ],
   "metadata": {
    "collapsed": false
   },
   "id": "7496c8a8b14d043b"
  },
  {
   "cell_type": "markdown",
   "source": [
    "## Importação da Base de Dados"
   ],
   "metadata": {
    "collapsed": false
   },
   "id": "69c4f81e0f06617e"
  },
  {
   "cell_type": "code",
   "execution_count": 1,
   "outputs": [],
   "source": [
    "# features (1 sim, 0 não)\n",
    "# a) pelo longo? # b) perna curta? # c)faz auau?\n",
    "\n",
    "porco1 = [0, 1, 0]\n",
    "porco2 = [0, 1, 1]\n",
    "porco3 = [1, 1, 0]\n",
    "cachorro1 = [0, 1, 1]\n",
    "cachorro2 = [1, 0, 1]\n",
    "cachorro3 = [1, 1, 1]"
   ],
   "metadata": {
    "collapsed": false
   },
   "id": "cf522544fb868f05"
  },
  {
   "cell_type": "code",
   "execution_count": 2,
   "outputs": [],
   "source": [
    "# 1 => porco, 0 => cachorro\n",
    "dados = [porco1, porco2, porco3, cachorro1, cachorro2, cachorro3]\n",
    "classes = [1,1,1,0,0,0]"
   ],
   "metadata": {
    "collapsed": false
   },
   "id": "ab48f7485557b68c"
  },
  {
   "cell_type": "code",
   "execution_count": 3,
   "outputs": [
    {
     "ename": "ModuleNotFoundError",
     "evalue": "No module named 'sklearn'",
     "output_type": "error",
     "traceback": [
      "\u001B[1;31m---------------------------------------------------------------------------\u001B[0m",
      "\u001B[1;31mModuleNotFoundError\u001B[0m                       Traceback (most recent call last)",
      "Cell \u001B[1;32mIn[3], line 1\u001B[0m\n\u001B[1;32m----> 1\u001B[0m \u001B[38;5;28;01mfrom\u001B[39;00m \u001B[38;5;21;01msklearn\u001B[39;00m\u001B[38;5;21;01m.\u001B[39;00m\u001B[38;5;21;01msvm\u001B[39;00m \u001B[38;5;28;01mimport\u001B[39;00m LinearSVC\n\u001B[0;32m      3\u001B[0m model \u001B[38;5;241m=\u001B[39m LinearSVC()\n\u001B[0;32m      4\u001B[0m model\u001B[38;5;241m.\u001B[39mfit(dados, classes)\n",
      "\u001B[1;31mModuleNotFoundError\u001B[0m: No module named 'sklearn'"
     ]
    }
   ],
   "source": [
    "from sklearn.svm import LinearSVC\n",
    "\n",
    "model = LinearSVC()\n",
    "model.fit(dados, classes)"
   ],
   "metadata": {
    "collapsed": false
   },
   "id": "c0325958f7cba6d5"
  },
  {
   "cell_type": "code",
   "execution_count": null,
   "outputs": [],
   "source": [
    "teste_animal_misterioso = [[1,1,1]]\n",
    "\n",
    "model.predict(teste_animal_misterioso)"
   ],
   "metadata": {
    "collapsed": false
   },
   "id": "d5ef557fcf6d51bd"
  }
 ],
 "metadata": {
  "kernelspec": {
   "display_name": "Python 3",
   "language": "python",
   "name": "python3"
  },
  "language_info": {
   "codemirror_mode": {
    "name": "ipython",
    "version": 2
   },
   "file_extension": ".py",
   "mimetype": "text/x-python",
   "name": "python",
   "nbconvert_exporter": "python",
   "pygments_lexer": "ipython2",
   "version": "2.7.6"
  }
 },
 "nbformat": 4,
 "nbformat_minor": 5
}
