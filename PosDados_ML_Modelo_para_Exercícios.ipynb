{
  "nbformat": 4,
  "nbformat_minor": 0,
  "metadata": {
    "colab": {
      "provenance": [],
      "authorship_tag": "ABX9TyPIkv0M1CpIGAdqBiRW8g3q"
    },
    "kernelspec": {
      "name": "python3",
      "display_name": "Python 3"
    },
    "language_info": {
      "name": "python"
    }
  },
  "cells": [
    {
      "cell_type": "markdown",
      "source": [
        "MBA em Engenharia e Ciência de Dados<br />\n",
        "Machine Learning\n",
        "\n",
        "**Nome:**\n"
      ],
      "metadata": {
        "id": "Kn2sfw9gEorZ"
      }
    },
    {
      "cell_type": "markdown",
      "source": [
        "# Instalação de Pacotes\n",
        "\n",
        "É possível instalar pacotes de maneira muito simples no Google Colab. Utilize o comando abaixo como exemplo:\n",
        "\n",
        "`!pip install pandas`\n",
        "\n",
        "No exemplo, podemos verificar a instalação do pandas. De forma similar utilize para instalar outras bibliotecas."
      ],
      "metadata": {
        "id": "xztEzorqFBnB"
      }
    },
    {
      "cell_type": "code",
      "execution_count": null,
      "metadata": {
        "id": "CQy-azSIEJ2s"
      },
      "outputs": [],
      "source": []
    },
    {
      "cell_type": "markdown",
      "source": [
        "# Importação das bibliotecas\n",
        "\n",
        "Algumas bibliotecas não estão disponíveis por padrão no código Python que será utilizado para resolução dos problemas que envolvem Ciência de Dados.\n",
        "\n",
        "Abaixo um código de exemplo de como importar o sklearn.\n",
        "\n",
        "`from sklearn.svm import LinearSVR`\n",
        "\n",
        "O exemplo tem como requisito a instalação do pacote sklearn e neste exemplo está importando o Linear SVR."
      ],
      "metadata": {
        "id": "63seHVjHFm6H"
      }
    },
    {
      "cell_type": "code",
      "source": [],
      "metadata": {
        "id": "zl9Z2eTBGQDV"
      },
      "execution_count": null,
      "outputs": []
    },
    {
      "cell_type": "markdown",
      "source": [
        "# Leitura da Base de Dados\n",
        "\n",
        "A base de dados que será utilizada pode ter diversas fontes, como visto na disciplina de Inferência Estatística e Data Mining.\n",
        "\n",
        "`pd.read_csv('data.csv') ` <br />\n",
        "`pd.read_excel('tmp.xlsx', index_col=0)` <br />\n",
        "`pd.read_json('meu_json.json')`\n",
        "\n",
        "Estes são alguns exemplos de leitura de arquivos. Mas, pode ser necessário a leitura de outro tipo de base de dados."
      ],
      "metadata": {
        "id": "9rg_-dggGQxn"
      }
    },
    {
      "cell_type": "code",
      "source": [],
      "metadata": {
        "id": "aD4JQoFdHW_j"
      },
      "execution_count": null,
      "outputs": []
    },
    {
      "cell_type": "markdown",
      "source": [
        "# Visualização dos Dados\n",
        "\n",
        "É possível utilizar funções como df.head(), ou mesmo plotar algum gráfico para compreender o comportamento dos dados."
      ],
      "metadata": {
        "id": "fFVqgKOrHXi6"
      }
    },
    {
      "cell_type": "code",
      "source": [],
      "metadata": {
        "id": "iFwecjIVHcSN"
      },
      "execution_count": null,
      "outputs": []
    },
    {
      "cell_type": "markdown",
      "source": [
        "# Pré-Processamento\n",
        "*Apenas se necessário* realizar o pré-processamento. Em casos de estudo a base de dados costuma já ser trabalhada e pronta para os testes. Por outro lado, no mundo real, esta é uma etapa importante."
      ],
      "metadata": {
        "id": "FIa237V5HcpC"
      }
    },
    {
      "cell_type": "code",
      "source": [],
      "metadata": {
        "id": "QmLjjyf5HjyA"
      },
      "execution_count": null,
      "outputs": []
    },
    {
      "cell_type": "markdown",
      "source": [
        "# Separação em Treino e Teste"
      ],
      "metadata": {
        "id": "WvAF6j_MHkfk"
      }
    },
    {
      "cell_type": "code",
      "source": [],
      "metadata": {
        "id": "O9oBXzmDHpUf"
      },
      "execution_count": null,
      "outputs": []
    },
    {
      "cell_type": "markdown",
      "source": [
        "# Construção dos Modelos"
      ],
      "metadata": {
        "id": "y6W2_NHiHqLV"
      }
    },
    {
      "cell_type": "code",
      "source": [],
      "metadata": {
        "id": "c06bvEM1HuMb"
      },
      "execution_count": null,
      "outputs": []
    },
    {
      "cell_type": "markdown",
      "source": [
        "# Avaliação das Métricas"
      ],
      "metadata": {
        "id": "M6Iim8LEHubj"
      }
    },
    {
      "cell_type": "code",
      "source": [],
      "metadata": {
        "id": "jVtpXH_eHxnO"
      },
      "execution_count": null,
      "outputs": []
    }
  ]
}